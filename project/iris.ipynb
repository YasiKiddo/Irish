{
 "cells": [
  {
   "cell_type": "code",
   "execution_count": 7,
   "id": "31d5122d",
   "metadata": {},
   "outputs": [
    {
     "name": "stdout",
     "output_type": "stream",
     "text": [
      "Collecting scikit-learn\n",
      "  Using cached scikit_learn-1.7.0-cp312-cp312-win_amd64.whl.metadata (14 kB)\n",
      "Requirement already satisfied: numpy>=1.22.0 in c:\\users\\student\\appdata\\local\\programs\\python\\python312\\lib\\site-packages (from scikit-learn) (2.3.0)\n",
      "Collecting scipy>=1.8.0 (from scikit-learn)\n",
      "  Downloading scipy-1.16.0-cp312-cp312-win_amd64.whl.metadata (60 kB)\n",
      "Collecting joblib>=1.2.0 (from scikit-learn)\n",
      "  Using cached joblib-1.5.1-py3-none-any.whl.metadata (5.6 kB)\n",
      "Collecting threadpoolctl>=3.1.0 (from scikit-learn)\n",
      "  Using cached threadpoolctl-3.6.0-py3-none-any.whl.metadata (13 kB)\n",
      "Downloading scikit_learn-1.7.0-cp312-cp312-win_amd64.whl (10.7 MB)\n",
      "   ---------------------------------------- 0.0/10.7 MB ? eta -:--:--\n",
      "   ---- ----------------------------------- 1.3/10.7 MB 9.5 MB/s eta 0:00:01\n",
      "   -------------------- ------------------- 5.5/10.7 MB 17.7 MB/s eta 0:00:01\n",
      "   ---------------------------------------- 10.7/10.7 MB 19.6 MB/s eta 0:00:00\n",
      "Using cached joblib-1.5.1-py3-none-any.whl (307 kB)\n",
      "Downloading scipy-1.16.0-cp312-cp312-win_amd64.whl (38.4 MB)\n",
      "   ---------------------------------------- 0.0/38.4 MB ? eta -:--:--\n",
      "   ----- ---------------------------------- 5.2/38.4 MB 26.5 MB/s eta 0:00:02\n",
      "   ---------- ----------------------------- 10.0/38.4 MB 23.8 MB/s eta 0:00:02\n",
      "   --------------- ------------------------ 14.4/38.4 MB 23.2 MB/s eta 0:00:02\n",
      "   ------------------- -------------------- 18.6/38.4 MB 22.6 MB/s eta 0:00:01\n",
      "   ---------------------- ----------------- 21.8/38.4 MB 20.5 MB/s eta 0:00:01\n",
      "   ------------------------ --------------- 23.6/38.4 MB 18.9 MB/s eta 0:00:01\n",
      "   -------------------------- ------------- 25.4/38.4 MB 17.1 MB/s eta 0:00:01\n",
      "   --------------------------- ------------ 26.5/38.4 MB 15.7 MB/s eta 0:00:01\n",
      "   ---------------------------- ----------- 27.5/38.4 MB 14.8 MB/s eta 0:00:01\n",
      "   ----------------------------- ---------- 28.6/38.4 MB 13.7 MB/s eta 0:00:01\n",
      "   ------------------------------ --------- 29.4/38.4 MB 12.7 MB/s eta 0:00:01\n",
      "   ------------------------------ --------- 29.6/38.4 MB 12.0 MB/s eta 0:00:01\n",
      "   ------------------------------- -------- 30.1/38.4 MB 11.2 MB/s eta 0:00:01\n",
      "   ------------------------------- -------- 30.7/38.4 MB 10.5 MB/s eta 0:00:01\n",
      "   -------------------------------- ------- 31.2/38.4 MB 9.9 MB/s eta 0:00:01\n",
      "   --------------------------------- ------ 31.7/38.4 MB 9.4 MB/s eta 0:00:01\n",
      "   --------------------------------- ------ 32.2/38.4 MB 9.0 MB/s eta 0:00:01\n",
      "   ---------------------------------- ----- 32.8/38.4 MB 8.6 MB/s eta 0:00:01\n",
      "   ---------------------------------- ----- 33.3/38.4 MB 8.3 MB/s eta 0:00:01\n",
      "   ---------------------------------- ----- 33.6/38.4 MB 8.1 MB/s eta 0:00:01\n",
      "   ----------------------------------- ---- 34.1/38.4 MB 7.7 MB/s eta 0:00:01\n",
      "   ----------------------------------- ---- 34.3/38.4 MB 7.5 MB/s eta 0:00:01\n",
      "   ------------------------------------ --- 34.9/38.4 MB 7.2 MB/s eta 0:00:01\n",
      "   ------------------------------------ --- 35.1/38.4 MB 7.1 MB/s eta 0:00:01\n",
      "   ------------------------------------ --- 35.4/38.4 MB 6.9 MB/s eta 0:00:01\n",
      "   ------------------------------------- -- 35.7/38.4 MB 6.7 MB/s eta 0:00:01\n",
      "   ------------------------------------- -- 35.9/38.4 MB 6.4 MB/s eta 0:00:01\n",
      "   ------------------------------------- -- 36.2/38.4 MB 6.1 MB/s eta 0:00:01\n",
      "   ------------------------------------- -- 36.2/38.4 MB 6.1 MB/s eta 0:00:01\n",
      "   ------------------------------------- -- 36.4/38.4 MB 5.8 MB/s eta 0:00:01\n",
      "   -------------------------------------- - 36.7/38.4 MB 5.6 MB/s eta 0:00:01\n",
      "   -------------------------------------- - 36.7/38.4 MB 5.6 MB/s eta 0:00:01\n",
      "   -------------------------------------- - 37.0/38.4 MB 5.3 MB/s eta 0:00:01\n",
      "   -------------------------------------- - 37.2/38.4 MB 5.1 MB/s eta 0:00:01\n",
      "   -------------------------------------- - 37.2/38.4 MB 5.1 MB/s eta 0:00:01\n",
      "   ---------------------------------------  37.5/38.4 MB 5.0 MB/s eta 0:00:01\n",
      "   ---------------------------------------  37.7/38.4 MB 4.8 MB/s eta 0:00:01\n",
      "   ---------------------------------------  37.7/38.4 MB 4.8 MB/s eta 0:00:01\n",
      "   ---------------------------------------  38.0/38.4 MB 4.6 MB/s eta 0:00:01\n",
      "   ---------------------------------------  38.0/38.4 MB 4.6 MB/s eta 0:00:01\n",
      "   ---------------------------------------  38.3/38.4 MB 4.4 MB/s eta 0:00:01\n",
      "   ---------------------------------------  38.3/38.4 MB 4.4 MB/s eta 0:00:01\n",
      "   ---------------------------------------- 38.4/38.4 MB 4.3 MB/s eta 0:00:00\n",
      "Using cached threadpoolctl-3.6.0-py3-none-any.whl (18 kB)\n",
      "Installing collected packages: threadpoolctl, scipy, joblib, scikit-learn\n",
      "Successfully installed joblib-1.5.1 scikit-learn-1.7.0 scipy-1.16.0 threadpoolctl-3.6.0\n",
      "Note: you may need to restart the kernel to use updated packages.\n"
     ]
    },
    {
     "name": "stderr",
     "output_type": "stream",
     "text": [
      "\n",
      "[notice] A new release of pip is available: 25.0.1 -> 25.1.1\n",
      "[notice] To update, run: python.exe -m pip install --upgrade pip\n"
     ]
    }
   ],
   "source": [
    "pip install -U scikit-learn\n"
   ]
  },
  {
   "cell_type": "code",
   "execution_count": 9,
   "id": "5f728fe8",
   "metadata": {},
   "outputs": [],
   "source": [
    "import pandas as pd\n",
    "import matplotlib.pyplot as plt\n",
    "import seaborn as sns\n",
    "from sklearn.model_selection import train_test_split, cross_val_score\n",
    "from sklearn.preprocessing import StandardScaler\n",
    "\n"
   ]
  },
  {
   "cell_type": "code",
   "execution_count": 10,
   "id": "013e243f",
   "metadata": {},
   "outputs": [],
   "source": [
    "from sklearn.neighbors import KNeighborsClassifier\n",
    "from sklearn.linear_model import LogisticRegression\n",
    "from sklearn.tree import DecisionTreeClassifier\n",
    "from sklearn.ensemble import RandomForestClassifier\n",
    "from sklearn.svm import SVC\n",
    "from sklearn.metrics import classification_report, accuracy_score, confusion_matrix\n"
   ]
  },
  {
   "cell_type": "markdown",
   "id": "a66865d7",
   "metadata": {},
   "source": [
    "Load the Dataset"
   ]
  },
  {
   "cell_type": "code",
   "execution_count": 11,
   "id": "9deb05e5",
   "metadata": {},
   "outputs": [
    {
     "data": {
      "text/html": [
       "<div>\n",
       "<style scoped>\n",
       "    .dataframe tbody tr th:only-of-type {\n",
       "        vertical-align: middle;\n",
       "    }\n",
       "\n",
       "    .dataframe tbody tr th {\n",
       "        vertical-align: top;\n",
       "    }\n",
       "\n",
       "    .dataframe thead th {\n",
       "        text-align: right;\n",
       "    }\n",
       "</style>\n",
       "<table border=\"1\" class=\"dataframe\">\n",
       "  <thead>\n",
       "    <tr style=\"text-align: right;\">\n",
       "      <th></th>\n",
       "      <th>sepal_length</th>\n",
       "      <th>sepal_width</th>\n",
       "      <th>petal_length</th>\n",
       "      <th>petal_width</th>\n",
       "      <th>species</th>\n",
       "    </tr>\n",
       "  </thead>\n",
       "  <tbody>\n",
       "    <tr>\n",
       "      <th>0</th>\n",
       "      <td>5.1</td>\n",
       "      <td>3.5</td>\n",
       "      <td>1.4</td>\n",
       "      <td>0.2</td>\n",
       "      <td>Iris-setosa</td>\n",
       "    </tr>\n",
       "    <tr>\n",
       "      <th>1</th>\n",
       "      <td>4.9</td>\n",
       "      <td>3.0</td>\n",
       "      <td>1.4</td>\n",
       "      <td>0.2</td>\n",
       "      <td>Iris-setosa</td>\n",
       "    </tr>\n",
       "    <tr>\n",
       "      <th>2</th>\n",
       "      <td>4.7</td>\n",
       "      <td>3.2</td>\n",
       "      <td>1.3</td>\n",
       "      <td>0.2</td>\n",
       "      <td>Iris-setosa</td>\n",
       "    </tr>\n",
       "    <tr>\n",
       "      <th>3</th>\n",
       "      <td>4.6</td>\n",
       "      <td>3.1</td>\n",
       "      <td>1.5</td>\n",
       "      <td>0.2</td>\n",
       "      <td>Iris-setosa</td>\n",
       "    </tr>\n",
       "    <tr>\n",
       "      <th>4</th>\n",
       "      <td>5.0</td>\n",
       "      <td>3.6</td>\n",
       "      <td>1.4</td>\n",
       "      <td>0.2</td>\n",
       "      <td>Iris-setosa</td>\n",
       "    </tr>\n",
       "  </tbody>\n",
       "</table>\n",
       "</div>"
      ],
      "text/plain": [
       "   sepal_length  sepal_width  petal_length  petal_width      species\n",
       "0           5.1          3.5           1.4          0.2  Iris-setosa\n",
       "1           4.9          3.0           1.4          0.2  Iris-setosa\n",
       "2           4.7          3.2           1.3          0.2  Iris-setosa\n",
       "3           4.6          3.1           1.5          0.2  Iris-setosa\n",
       "4           5.0          3.6           1.4          0.2  Iris-setosa"
      ]
     },
     "execution_count": 11,
     "metadata": {},
     "output_type": "execute_result"
    }
   ],
   "source": [
    "df = pd.read_csv(\"IRIS.csv\")\n",
    "df.head()\n"
   ]
  },
  {
   "cell_type": "markdown",
   "id": "7e2bd851",
   "metadata": {},
   "source": [
    "Data Visualization"
   ]
  },
  {
   "cell_type": "code",
   "execution_count": 12,
   "id": "619d87d4",
   "metadata": {},
   "outputs": [
    {
     "data": {
      "text/html": [
       "<div>\n",
       "<style scoped>\n",
       "    .dataframe tbody tr th:only-of-type {\n",
       "        vertical-align: middle;\n",
       "    }\n",
       "\n",
       "    .dataframe tbody tr th {\n",
       "        vertical-align: top;\n",
       "    }\n",
       "\n",
       "    .dataframe thead th {\n",
       "        text-align: right;\n",
       "    }\n",
       "</style>\n",
       "<table border=\"1\" class=\"dataframe\">\n",
       "  <thead>\n",
       "    <tr style=\"text-align: right;\">\n",
       "      <th></th>\n",
       "      <th>sepal_length</th>\n",
       "      <th>sepal_width</th>\n",
       "      <th>petal_length</th>\n",
       "      <th>petal_width</th>\n",
       "      <th>species</th>\n",
       "    </tr>\n",
       "  </thead>\n",
       "  <tbody>\n",
       "    <tr>\n",
       "      <th>0</th>\n",
       "      <td>5.1</td>\n",
       "      <td>3.5</td>\n",
       "      <td>1.4</td>\n",
       "      <td>0.2</td>\n",
       "      <td>Iris-setosa</td>\n",
       "    </tr>\n",
       "    <tr>\n",
       "      <th>1</th>\n",
       "      <td>4.9</td>\n",
       "      <td>3.0</td>\n",
       "      <td>1.4</td>\n",
       "      <td>0.2</td>\n",
       "      <td>Iris-setosa</td>\n",
       "    </tr>\n",
       "    <tr>\n",
       "      <th>2</th>\n",
       "      <td>4.7</td>\n",
       "      <td>3.2</td>\n",
       "      <td>1.3</td>\n",
       "      <td>0.2</td>\n",
       "      <td>Iris-setosa</td>\n",
       "    </tr>\n",
       "    <tr>\n",
       "      <th>3</th>\n",
       "      <td>4.6</td>\n",
       "      <td>3.1</td>\n",
       "      <td>1.5</td>\n",
       "      <td>0.2</td>\n",
       "      <td>Iris-setosa</td>\n",
       "    </tr>\n",
       "    <tr>\n",
       "      <th>4</th>\n",
       "      <td>5.0</td>\n",
       "      <td>3.6</td>\n",
       "      <td>1.4</td>\n",
       "      <td>0.2</td>\n",
       "      <td>Iris-setosa</td>\n",
       "    </tr>\n",
       "  </tbody>\n",
       "</table>\n",
       "</div>"
      ],
      "text/plain": [
       "   sepal_length  sepal_width  petal_length  petal_width      species\n",
       "0           5.1          3.5           1.4          0.2  Iris-setosa\n",
       "1           4.9          3.0           1.4          0.2  Iris-setosa\n",
       "2           4.7          3.2           1.3          0.2  Iris-setosa\n",
       "3           4.6          3.1           1.5          0.2  Iris-setosa\n",
       "4           5.0          3.6           1.4          0.2  Iris-setosa"
      ]
     },
     "execution_count": 12,
     "metadata": {},
     "output_type": "execute_result"
    }
   ],
   "source": [
    "# See the first few rows of the dataset\n",
    "df.head()\n"
   ]
  },
  {
   "cell_type": "code",
   "execution_count": null,
   "id": "a4051dc1",
   "metadata": {},
   "outputs": [],
   "source": []
  }
 ],
 "metadata": {
  "kernelspec": {
   "display_name": "Python 3",
   "language": "python",
   "name": "python3"
  },
  "language_info": {
   "codemirror_mode": {
    "name": "ipython",
    "version": 3
   },
   "file_extension": ".py",
   "mimetype": "text/x-python",
   "name": "python",
   "nbconvert_exporter": "python",
   "pygments_lexer": "ipython3",
   "version": "3.12.10"
  }
 },
 "nbformat": 4,
 "nbformat_minor": 5
}
